{
 "cells": [
  {
   "cell_type": "markdown",
   "id": "e187f0b6",
   "metadata": {},
   "source": [
    "Here, we analayze different initialization techniques for our iris dataset. First, we import the necessary libraries and split the dataset into training and testing."
   ]
  },
  {
   "cell_type": "code",
   "execution_count": 511,
   "id": "25a5d9b7",
   "metadata": {},
   "outputs": [],
   "source": [
    "import numpy as np\n",
    "import pandas as pd\n",
    "import math\n",
    "import matplotlib.pyplot as plt\n",
    "from scipy.stats import norm"
   ]
  },
  {
   "cell_type": "code",
   "execution_count": 512,
   "id": "43a43ebf",
   "metadata": {},
   "outputs": [],
   "source": [
    "np.random.seed(42)"
   ]
  },
  {
   "cell_type": "code",
   "execution_count": 513,
   "id": "cc0a0e32",
   "metadata": {},
   "outputs": [],
   "source": [
    "df = pd.read_csv('iris.csv')"
   ]
  },
  {
   "cell_type": "code",
   "execution_count": 514,
   "id": "a6165687",
   "metadata": {},
   "outputs": [
    {
     "data": {
      "text/html": [
       "<div>\n",
       "<style scoped>\n",
       "    .dataframe tbody tr th:only-of-type {\n",
       "        vertical-align: middle;\n",
       "    }\n",
       "\n",
       "    .dataframe tbody tr th {\n",
       "        vertical-align: top;\n",
       "    }\n",
       "\n",
       "    .dataframe thead th {\n",
       "        text-align: right;\n",
       "    }\n",
       "</style>\n",
       "<table border=\"1\" class=\"dataframe\">\n",
       "  <thead>\n",
       "    <tr style=\"text-align: right;\">\n",
       "      <th></th>\n",
       "      <th>Id</th>\n",
       "      <th>SepalLengthCm</th>\n",
       "      <th>SepalWidthCm</th>\n",
       "      <th>PetalLengthCm</th>\n",
       "      <th>PetalWidthCm</th>\n",
       "      <th>Species</th>\n",
       "    </tr>\n",
       "  </thead>\n",
       "  <tbody>\n",
       "    <tr>\n",
       "      <th>0</th>\n",
       "      <td>1</td>\n",
       "      <td>5.1</td>\n",
       "      <td>3.5</td>\n",
       "      <td>1.4</td>\n",
       "      <td>0.2</td>\n",
       "      <td>Iris-setosa</td>\n",
       "    </tr>\n",
       "    <tr>\n",
       "      <th>1</th>\n",
       "      <td>2</td>\n",
       "      <td>4.9</td>\n",
       "      <td>3.0</td>\n",
       "      <td>1.4</td>\n",
       "      <td>0.2</td>\n",
       "      <td>Iris-setosa</td>\n",
       "    </tr>\n",
       "    <tr>\n",
       "      <th>2</th>\n",
       "      <td>3</td>\n",
       "      <td>4.7</td>\n",
       "      <td>3.2</td>\n",
       "      <td>1.3</td>\n",
       "      <td>0.2</td>\n",
       "      <td>Iris-setosa</td>\n",
       "    </tr>\n",
       "    <tr>\n",
       "      <th>3</th>\n",
       "      <td>4</td>\n",
       "      <td>4.6</td>\n",
       "      <td>3.1</td>\n",
       "      <td>1.5</td>\n",
       "      <td>0.2</td>\n",
       "      <td>Iris-setosa</td>\n",
       "    </tr>\n",
       "    <tr>\n",
       "      <th>4</th>\n",
       "      <td>5</td>\n",
       "      <td>5.0</td>\n",
       "      <td>3.6</td>\n",
       "      <td>1.4</td>\n",
       "      <td>0.2</td>\n",
       "      <td>Iris-setosa</td>\n",
       "    </tr>\n",
       "  </tbody>\n",
       "</table>\n",
       "</div>"
      ],
      "text/plain": [
       "   Id  SepalLengthCm  SepalWidthCm  PetalLengthCm  PetalWidthCm      Species\n",
       "0   1            5.1           3.5            1.4           0.2  Iris-setosa\n",
       "1   2            4.9           3.0            1.4           0.2  Iris-setosa\n",
       "2   3            4.7           3.2            1.3           0.2  Iris-setosa\n",
       "3   4            4.6           3.1            1.5           0.2  Iris-setosa\n",
       "4   5            5.0           3.6            1.4           0.2  Iris-setosa"
      ]
     },
     "execution_count": 514,
     "metadata": {},
     "output_type": "execute_result"
    }
   ],
   "source": [
    "df.head(5)"
   ]
  },
  {
   "cell_type": "code",
   "execution_count": 515,
   "id": "d930a2f9",
   "metadata": {},
   "outputs": [
    {
     "data": {
      "text/plain": [
       "(150, 6)"
      ]
     },
     "execution_count": 515,
     "metadata": {},
     "output_type": "execute_result"
    }
   ],
   "source": [
    "df.shape"
   ]
  },
  {
   "cell_type": "code",
   "execution_count": 516,
   "id": "246255c4",
   "metadata": {},
   "outputs": [
    {
     "name": "stdout",
     "output_type": "stream",
     "text": [
      "<class 'pandas.core.frame.DataFrame'>\n",
      "RangeIndex: 150 entries, 0 to 149\n",
      "Data columns (total 6 columns):\n",
      " #   Column         Non-Null Count  Dtype  \n",
      "---  ------         --------------  -----  \n",
      " 0   Id             150 non-null    int64  \n",
      " 1   SepalLengthCm  150 non-null    float64\n",
      " 2   SepalWidthCm   150 non-null    float64\n",
      " 3   PetalLengthCm  150 non-null    float64\n",
      " 4   PetalWidthCm   150 non-null    float64\n",
      " 5   Species        150 non-null    object \n",
      "dtypes: float64(4), int64(1), object(1)\n",
      "memory usage: 7.2+ KB\n"
     ]
    }
   ],
   "source": [
    "df.info()"
   ]
  },
  {
   "cell_type": "code",
   "execution_count": 517,
   "id": "f2300e3a",
   "metadata": {},
   "outputs": [
    {
     "data": {
      "text/html": [
       "<div>\n",
       "<style scoped>\n",
       "    .dataframe tbody tr th:only-of-type {\n",
       "        vertical-align: middle;\n",
       "    }\n",
       "\n",
       "    .dataframe tbody tr th {\n",
       "        vertical-align: top;\n",
       "    }\n",
       "\n",
       "    .dataframe thead th {\n",
       "        text-align: right;\n",
       "    }\n",
       "</style>\n",
       "<table border=\"1\" class=\"dataframe\">\n",
       "  <thead>\n",
       "    <tr style=\"text-align: right;\">\n",
       "      <th></th>\n",
       "      <th>SepalLengthCm</th>\n",
       "      <th>SepalWidthCm</th>\n",
       "      <th>PetalLengthCm</th>\n",
       "      <th>PetalWidthCm</th>\n",
       "      <th>Species</th>\n",
       "    </tr>\n",
       "  </thead>\n",
       "  <tbody>\n",
       "    <tr>\n",
       "      <th>0</th>\n",
       "      <td>5.1</td>\n",
       "      <td>3.5</td>\n",
       "      <td>1.4</td>\n",
       "      <td>0.2</td>\n",
       "      <td>Iris-setosa</td>\n",
       "    </tr>\n",
       "    <tr>\n",
       "      <th>1</th>\n",
       "      <td>4.9</td>\n",
       "      <td>3.0</td>\n",
       "      <td>1.4</td>\n",
       "      <td>0.2</td>\n",
       "      <td>Iris-setosa</td>\n",
       "    </tr>\n",
       "    <tr>\n",
       "      <th>2</th>\n",
       "      <td>4.7</td>\n",
       "      <td>3.2</td>\n",
       "      <td>1.3</td>\n",
       "      <td>0.2</td>\n",
       "      <td>Iris-setosa</td>\n",
       "    </tr>\n",
       "    <tr>\n",
       "      <th>3</th>\n",
       "      <td>4.6</td>\n",
       "      <td>3.1</td>\n",
       "      <td>1.5</td>\n",
       "      <td>0.2</td>\n",
       "      <td>Iris-setosa</td>\n",
       "    </tr>\n",
       "    <tr>\n",
       "      <th>4</th>\n",
       "      <td>5.0</td>\n",
       "      <td>3.6</td>\n",
       "      <td>1.4</td>\n",
       "      <td>0.2</td>\n",
       "      <td>Iris-setosa</td>\n",
       "    </tr>\n",
       "  </tbody>\n",
       "</table>\n",
       "</div>"
      ],
      "text/plain": [
       "   SepalLengthCm  SepalWidthCm  PetalLengthCm  PetalWidthCm      Species\n",
       "0            5.1           3.5            1.4           0.2  Iris-setosa\n",
       "1            4.9           3.0            1.4           0.2  Iris-setosa\n",
       "2            4.7           3.2            1.3           0.2  Iris-setosa\n",
       "3            4.6           3.1            1.5           0.2  Iris-setosa\n",
       "4            5.0           3.6            1.4           0.2  Iris-setosa"
      ]
     },
     "execution_count": 517,
     "metadata": {},
     "output_type": "execute_result"
    }
   ],
   "source": [
    "df = df.drop(['Id'], axis=1)\n",
    "df.head()"
   ]
  },
  {
   "cell_type": "code",
   "execution_count": 518,
   "id": "fb00bc72",
   "metadata": {},
   "outputs": [
    {
     "data": {
      "text/plain": [
       "array(['Iris-setosa', 'Iris-versicolor', 'Iris-virginica'], dtype=object)"
      ]
     },
     "execution_count": 518,
     "metadata": {},
     "output_type": "execute_result"
    }
   ],
   "source": [
    "pd.unique(df[['Species']].values.ravel())"
   ]
  },
  {
   "cell_type": "code",
   "execution_count": 519,
   "id": "f29c0045",
   "metadata": {},
   "outputs": [
    {
     "data": {
      "text/html": [
       "<div>\n",
       "<style scoped>\n",
       "    .dataframe tbody tr th:only-of-type {\n",
       "        vertical-align: middle;\n",
       "    }\n",
       "\n",
       "    .dataframe tbody tr th {\n",
       "        vertical-align: top;\n",
       "    }\n",
       "\n",
       "    .dataframe thead th {\n",
       "        text-align: right;\n",
       "    }\n",
       "</style>\n",
       "<table border=\"1\" class=\"dataframe\">\n",
       "  <thead>\n",
       "    <tr style=\"text-align: right;\">\n",
       "      <th></th>\n",
       "      <th>SepalLengthCm</th>\n",
       "      <th>SepalWidthCm</th>\n",
       "      <th>PetalLengthCm</th>\n",
       "      <th>PetalWidthCm</th>\n",
       "      <th>Species</th>\n",
       "    </tr>\n",
       "  </thead>\n",
       "  <tbody>\n",
       "    <tr>\n",
       "      <th>0</th>\n",
       "      <td>5.1</td>\n",
       "      <td>3.5</td>\n",
       "      <td>1.4</td>\n",
       "      <td>0.2</td>\n",
       "      <td>0</td>\n",
       "    </tr>\n",
       "    <tr>\n",
       "      <th>1</th>\n",
       "      <td>4.9</td>\n",
       "      <td>3.0</td>\n",
       "      <td>1.4</td>\n",
       "      <td>0.2</td>\n",
       "      <td>0</td>\n",
       "    </tr>\n",
       "    <tr>\n",
       "      <th>2</th>\n",
       "      <td>4.7</td>\n",
       "      <td>3.2</td>\n",
       "      <td>1.3</td>\n",
       "      <td>0.2</td>\n",
       "      <td>0</td>\n",
       "    </tr>\n",
       "    <tr>\n",
       "      <th>3</th>\n",
       "      <td>4.6</td>\n",
       "      <td>3.1</td>\n",
       "      <td>1.5</td>\n",
       "      <td>0.2</td>\n",
       "      <td>0</td>\n",
       "    </tr>\n",
       "    <tr>\n",
       "      <th>4</th>\n",
       "      <td>5.0</td>\n",
       "      <td>3.6</td>\n",
       "      <td>1.4</td>\n",
       "      <td>0.2</td>\n",
       "      <td>0</td>\n",
       "    </tr>\n",
       "  </tbody>\n",
       "</table>\n",
       "</div>"
      ],
      "text/plain": [
       "   SepalLengthCm  SepalWidthCm  PetalLengthCm  PetalWidthCm  Species\n",
       "0            5.1           3.5            1.4           0.2        0\n",
       "1            4.9           3.0            1.4           0.2        0\n",
       "2            4.7           3.2            1.3           0.2        0\n",
       "3            4.6           3.1            1.5           0.2        0\n",
       "4            5.0           3.6            1.4           0.2        0"
      ]
     },
     "execution_count": 519,
     "metadata": {},
     "output_type": "execute_result"
    }
   ],
   "source": [
    "target_encoded_values = {\"Species\": {\"Iris-setosa\": 0, \"Iris-versicolor\": 1, \"Iris-virginica\": 2}}\n",
    "df = df.replace(target_encoded_values)\n",
    "# df.head()\n",
    "df.head()"
   ]
  },
  {
   "cell_type": "code",
   "execution_count": 520,
   "id": "be726b71",
   "metadata": {},
   "outputs": [
    {
     "data": {
      "text/html": [
       "<div>\n",
       "<style scoped>\n",
       "    .dataframe tbody tr th:only-of-type {\n",
       "        vertical-align: middle;\n",
       "    }\n",
       "\n",
       "    .dataframe tbody tr th {\n",
       "        vertical-align: top;\n",
       "    }\n",
       "\n",
       "    .dataframe thead th {\n",
       "        text-align: right;\n",
       "    }\n",
       "</style>\n",
       "<table border=\"1\" class=\"dataframe\">\n",
       "  <thead>\n",
       "    <tr style=\"text-align: right;\">\n",
       "      <th></th>\n",
       "      <th>SepalLengthCm</th>\n",
       "      <th>SepalWidthCm</th>\n",
       "      <th>PetalLengthCm</th>\n",
       "      <th>PetalWidthCm</th>\n",
       "      <th>Species</th>\n",
       "    </tr>\n",
       "  </thead>\n",
       "  <tbody>\n",
       "    <tr>\n",
       "      <th>count</th>\n",
       "      <td>150.000000</td>\n",
       "      <td>150.000000</td>\n",
       "      <td>150.000000</td>\n",
       "      <td>150.000000</td>\n",
       "      <td>150.000000</td>\n",
       "    </tr>\n",
       "    <tr>\n",
       "      <th>mean</th>\n",
       "      <td>5.843333</td>\n",
       "      <td>3.054000</td>\n",
       "      <td>3.758667</td>\n",
       "      <td>1.198667</td>\n",
       "      <td>1.000000</td>\n",
       "    </tr>\n",
       "    <tr>\n",
       "      <th>std</th>\n",
       "      <td>0.828066</td>\n",
       "      <td>0.433594</td>\n",
       "      <td>1.764420</td>\n",
       "      <td>0.763161</td>\n",
       "      <td>0.819232</td>\n",
       "    </tr>\n",
       "    <tr>\n",
       "      <th>min</th>\n",
       "      <td>4.300000</td>\n",
       "      <td>2.000000</td>\n",
       "      <td>1.000000</td>\n",
       "      <td>0.100000</td>\n",
       "      <td>0.000000</td>\n",
       "    </tr>\n",
       "    <tr>\n",
       "      <th>25%</th>\n",
       "      <td>5.100000</td>\n",
       "      <td>2.800000</td>\n",
       "      <td>1.600000</td>\n",
       "      <td>0.300000</td>\n",
       "      <td>0.000000</td>\n",
       "    </tr>\n",
       "    <tr>\n",
       "      <th>50%</th>\n",
       "      <td>5.800000</td>\n",
       "      <td>3.000000</td>\n",
       "      <td>4.350000</td>\n",
       "      <td>1.300000</td>\n",
       "      <td>1.000000</td>\n",
       "    </tr>\n",
       "    <tr>\n",
       "      <th>75%</th>\n",
       "      <td>6.400000</td>\n",
       "      <td>3.300000</td>\n",
       "      <td>5.100000</td>\n",
       "      <td>1.800000</td>\n",
       "      <td>2.000000</td>\n",
       "    </tr>\n",
       "    <tr>\n",
       "      <th>max</th>\n",
       "      <td>7.900000</td>\n",
       "      <td>4.400000</td>\n",
       "      <td>6.900000</td>\n",
       "      <td>2.500000</td>\n",
       "      <td>2.000000</td>\n",
       "    </tr>\n",
       "  </tbody>\n",
       "</table>\n",
       "</div>"
      ],
      "text/plain": [
       "       SepalLengthCm  SepalWidthCm  PetalLengthCm  PetalWidthCm     Species\n",
       "count     150.000000    150.000000     150.000000    150.000000  150.000000\n",
       "mean        5.843333      3.054000       3.758667      1.198667    1.000000\n",
       "std         0.828066      0.433594       1.764420      0.763161    0.819232\n",
       "min         4.300000      2.000000       1.000000      0.100000    0.000000\n",
       "25%         5.100000      2.800000       1.600000      0.300000    0.000000\n",
       "50%         5.800000      3.000000       4.350000      1.300000    1.000000\n",
       "75%         6.400000      3.300000       5.100000      1.800000    2.000000\n",
       "max         7.900000      4.400000       6.900000      2.500000    2.000000"
      ]
     },
     "execution_count": 520,
     "metadata": {},
     "output_type": "execute_result"
    }
   ],
   "source": [
    "df.describe()"
   ]
  },
  {
   "cell_type": "code",
   "execution_count": 521,
   "id": "f326e8f7",
   "metadata": {},
   "outputs": [
    {
     "data": {
      "text/html": [
       "<div>\n",
       "<style scoped>\n",
       "    .dataframe tbody tr th:only-of-type {\n",
       "        vertical-align: middle;\n",
       "    }\n",
       "\n",
       "    .dataframe tbody tr th {\n",
       "        vertical-align: top;\n",
       "    }\n",
       "\n",
       "    .dataframe thead th {\n",
       "        text-align: right;\n",
       "    }\n",
       "</style>\n",
       "<table border=\"1\" class=\"dataframe\">\n",
       "  <thead>\n",
       "    <tr style=\"text-align: right;\">\n",
       "      <th></th>\n",
       "      <th>SepalLengthCm</th>\n",
       "      <th>SepalWidthCm</th>\n",
       "      <th>PetalLengthCm</th>\n",
       "      <th>PetalWidthCm</th>\n",
       "      <th>Species</th>\n",
       "    </tr>\n",
       "  </thead>\n",
       "  <tbody>\n",
       "    <tr>\n",
       "      <th>0</th>\n",
       "      <td>5.1</td>\n",
       "      <td>3.5</td>\n",
       "      <td>1.4</td>\n",
       "      <td>0.2</td>\n",
       "      <td>0</td>\n",
       "    </tr>\n",
       "    <tr>\n",
       "      <th>1</th>\n",
       "      <td>4.9</td>\n",
       "      <td>3.0</td>\n",
       "      <td>1.4</td>\n",
       "      <td>0.2</td>\n",
       "      <td>0</td>\n",
       "    </tr>\n",
       "    <tr>\n",
       "      <th>2</th>\n",
       "      <td>4.7</td>\n",
       "      <td>3.2</td>\n",
       "      <td>1.3</td>\n",
       "      <td>0.2</td>\n",
       "      <td>0</td>\n",
       "    </tr>\n",
       "    <tr>\n",
       "      <th>3</th>\n",
       "      <td>4.6</td>\n",
       "      <td>3.1</td>\n",
       "      <td>1.5</td>\n",
       "      <td>0.2</td>\n",
       "      <td>0</td>\n",
       "    </tr>\n",
       "    <tr>\n",
       "      <th>4</th>\n",
       "      <td>5.0</td>\n",
       "      <td>3.6</td>\n",
       "      <td>1.4</td>\n",
       "      <td>0.2</td>\n",
       "      <td>0</td>\n",
       "    </tr>\n",
       "    <tr>\n",
       "      <th>5</th>\n",
       "      <td>5.4</td>\n",
       "      <td>3.9</td>\n",
       "      <td>1.7</td>\n",
       "      <td>0.4</td>\n",
       "      <td>0</td>\n",
       "    </tr>\n",
       "    <tr>\n",
       "      <th>6</th>\n",
       "      <td>4.6</td>\n",
       "      <td>3.4</td>\n",
       "      <td>1.4</td>\n",
       "      <td>0.3</td>\n",
       "      <td>0</td>\n",
       "    </tr>\n",
       "    <tr>\n",
       "      <th>7</th>\n",
       "      <td>5.0</td>\n",
       "      <td>3.4</td>\n",
       "      <td>1.5</td>\n",
       "      <td>0.2</td>\n",
       "      <td>0</td>\n",
       "    </tr>\n",
       "    <tr>\n",
       "      <th>8</th>\n",
       "      <td>4.4</td>\n",
       "      <td>2.9</td>\n",
       "      <td>1.4</td>\n",
       "      <td>0.2</td>\n",
       "      <td>0</td>\n",
       "    </tr>\n",
       "    <tr>\n",
       "      <th>9</th>\n",
       "      <td>4.9</td>\n",
       "      <td>3.1</td>\n",
       "      <td>1.5</td>\n",
       "      <td>0.1</td>\n",
       "      <td>0</td>\n",
       "    </tr>\n",
       "  </tbody>\n",
       "</table>\n",
       "</div>"
      ],
      "text/plain": [
       "   SepalLengthCm  SepalWidthCm  PetalLengthCm  PetalWidthCm  Species\n",
       "0            5.1           3.5            1.4           0.2        0\n",
       "1            4.9           3.0            1.4           0.2        0\n",
       "2            4.7           3.2            1.3           0.2        0\n",
       "3            4.6           3.1            1.5           0.2        0\n",
       "4            5.0           3.6            1.4           0.2        0\n",
       "5            5.4           3.9            1.7           0.4        0\n",
       "6            4.6           3.4            1.4           0.3        0\n",
       "7            5.0           3.4            1.5           0.2        0\n",
       "8            4.4           2.9            1.4           0.2        0\n",
       "9            4.9           3.1            1.5           0.1        0"
      ]
     },
     "execution_count": 521,
     "metadata": {},
     "output_type": "execute_result"
    }
   ],
   "source": [
    "df.head(10)"
   ]
  },
  {
   "cell_type": "code",
   "execution_count": 522,
   "id": "2a854475",
   "metadata": {},
   "outputs": [
    {
     "data": {
      "text/plain": [
       "(150, 5)"
      ]
     },
     "execution_count": 522,
     "metadata": {},
     "output_type": "execute_result"
    }
   ],
   "source": [
    "unorganized = df.sample(frac=1, random_state=1)\n",
    "unorganized.shape"
   ]
  },
  {
   "cell_type": "code",
   "execution_count": 523,
   "id": "e3790f9e",
   "metadata": {},
   "outputs": [
    {
     "data": {
      "text/html": [
       "<div>\n",
       "<style scoped>\n",
       "    .dataframe tbody tr th:only-of-type {\n",
       "        vertical-align: middle;\n",
       "    }\n",
       "\n",
       "    .dataframe tbody tr th {\n",
       "        vertical-align: top;\n",
       "    }\n",
       "\n",
       "    .dataframe thead th {\n",
       "        text-align: right;\n",
       "    }\n",
       "</style>\n",
       "<table border=\"1\" class=\"dataframe\">\n",
       "  <thead>\n",
       "    <tr style=\"text-align: right;\">\n",
       "      <th></th>\n",
       "      <th>SepalLengthCm</th>\n",
       "      <th>SepalWidthCm</th>\n",
       "      <th>PetalLengthCm</th>\n",
       "      <th>PetalWidthCm</th>\n",
       "      <th>Species</th>\n",
       "    </tr>\n",
       "  </thead>\n",
       "  <tbody>\n",
       "    <tr>\n",
       "      <th>14</th>\n",
       "      <td>5.8</td>\n",
       "      <td>4.0</td>\n",
       "      <td>1.2</td>\n",
       "      <td>0.2</td>\n",
       "      <td>0</td>\n",
       "    </tr>\n",
       "    <tr>\n",
       "      <th>98</th>\n",
       "      <td>5.1</td>\n",
       "      <td>2.5</td>\n",
       "      <td>3.0</td>\n",
       "      <td>1.1</td>\n",
       "      <td>1</td>\n",
       "    </tr>\n",
       "    <tr>\n",
       "      <th>75</th>\n",
       "      <td>6.6</td>\n",
       "      <td>3.0</td>\n",
       "      <td>4.4</td>\n",
       "      <td>1.4</td>\n",
       "      <td>1</td>\n",
       "    </tr>\n",
       "    <tr>\n",
       "      <th>16</th>\n",
       "      <td>5.4</td>\n",
       "      <td>3.9</td>\n",
       "      <td>1.3</td>\n",
       "      <td>0.4</td>\n",
       "      <td>0</td>\n",
       "    </tr>\n",
       "    <tr>\n",
       "      <th>131</th>\n",
       "      <td>7.9</td>\n",
       "      <td>3.8</td>\n",
       "      <td>6.4</td>\n",
       "      <td>2.0</td>\n",
       "      <td>2</td>\n",
       "    </tr>\n",
       "    <tr>\n",
       "      <th>56</th>\n",
       "      <td>6.3</td>\n",
       "      <td>3.3</td>\n",
       "      <td>4.7</td>\n",
       "      <td>1.6</td>\n",
       "      <td>1</td>\n",
       "    </tr>\n",
       "    <tr>\n",
       "      <th>141</th>\n",
       "      <td>6.9</td>\n",
       "      <td>3.1</td>\n",
       "      <td>5.1</td>\n",
       "      <td>2.3</td>\n",
       "      <td>2</td>\n",
       "    </tr>\n",
       "    <tr>\n",
       "      <th>44</th>\n",
       "      <td>5.1</td>\n",
       "      <td>3.8</td>\n",
       "      <td>1.9</td>\n",
       "      <td>0.4</td>\n",
       "      <td>0</td>\n",
       "    </tr>\n",
       "    <tr>\n",
       "      <th>29</th>\n",
       "      <td>4.7</td>\n",
       "      <td>3.2</td>\n",
       "      <td>1.6</td>\n",
       "      <td>0.2</td>\n",
       "      <td>0</td>\n",
       "    </tr>\n",
       "    <tr>\n",
       "      <th>120</th>\n",
       "      <td>6.9</td>\n",
       "      <td>3.2</td>\n",
       "      <td>5.7</td>\n",
       "      <td>2.3</td>\n",
       "      <td>2</td>\n",
       "    </tr>\n",
       "  </tbody>\n",
       "</table>\n",
       "</div>"
      ],
      "text/plain": [
       "     SepalLengthCm  SepalWidthCm  PetalLengthCm  PetalWidthCm  Species\n",
       "14             5.8           4.0            1.2           0.2        0\n",
       "98             5.1           2.5            3.0           1.1        1\n",
       "75             6.6           3.0            4.4           1.4        1\n",
       "16             5.4           3.9            1.3           0.4        0\n",
       "131            7.9           3.8            6.4           2.0        2\n",
       "56             6.3           3.3            4.7           1.6        1\n",
       "141            6.9           3.1            5.1           2.3        2\n",
       "44             5.1           3.8            1.9           0.4        0\n",
       "29             4.7           3.2            1.6           0.2        0\n",
       "120            6.9           3.2            5.7           2.3        2"
      ]
     },
     "execution_count": 523,
     "metadata": {},
     "output_type": "execute_result"
    }
   ],
   "source": [
    "unorganized.head(10)"
   ]
  },
  {
   "cell_type": "code",
   "execution_count": 524,
   "id": "6dc57903",
   "metadata": {},
   "outputs": [
    {
     "data": {
      "text/html": [
       "<div>\n",
       "<style scoped>\n",
       "    .dataframe tbody tr th:only-of-type {\n",
       "        vertical-align: middle;\n",
       "    }\n",
       "\n",
       "    .dataframe tbody tr th {\n",
       "        vertical-align: top;\n",
       "    }\n",
       "\n",
       "    .dataframe thead th {\n",
       "        text-align: right;\n",
       "    }\n",
       "</style>\n",
       "<table border=\"1\" class=\"dataframe\">\n",
       "  <thead>\n",
       "    <tr style=\"text-align: right;\">\n",
       "      <th></th>\n",
       "      <th>SepalLengthCm</th>\n",
       "      <th>SepalWidthCm</th>\n",
       "      <th>PetalLengthCm</th>\n",
       "      <th>PetalWidthCm</th>\n",
       "      <th>Species</th>\n",
       "    </tr>\n",
       "  </thead>\n",
       "  <tbody>\n",
       "    <tr>\n",
       "      <th>14</th>\n",
       "      <td>5.8</td>\n",
       "      <td>4.0</td>\n",
       "      <td>1.2</td>\n",
       "      <td>0.2</td>\n",
       "      <td>0</td>\n",
       "    </tr>\n",
       "    <tr>\n",
       "      <th>98</th>\n",
       "      <td>5.1</td>\n",
       "      <td>2.5</td>\n",
       "      <td>3.0</td>\n",
       "      <td>1.1</td>\n",
       "      <td>1</td>\n",
       "    </tr>\n",
       "    <tr>\n",
       "      <th>75</th>\n",
       "      <td>6.6</td>\n",
       "      <td>3.0</td>\n",
       "      <td>4.4</td>\n",
       "      <td>1.4</td>\n",
       "      <td>1</td>\n",
       "    </tr>\n",
       "    <tr>\n",
       "      <th>16</th>\n",
       "      <td>5.4</td>\n",
       "      <td>3.9</td>\n",
       "      <td>1.3</td>\n",
       "      <td>0.4</td>\n",
       "      <td>0</td>\n",
       "    </tr>\n",
       "    <tr>\n",
       "      <th>131</th>\n",
       "      <td>7.9</td>\n",
       "      <td>3.8</td>\n",
       "      <td>6.4</td>\n",
       "      <td>2.0</td>\n",
       "      <td>2</td>\n",
       "    </tr>\n",
       "    <tr>\n",
       "      <th>56</th>\n",
       "      <td>6.3</td>\n",
       "      <td>3.3</td>\n",
       "      <td>4.7</td>\n",
       "      <td>1.6</td>\n",
       "      <td>1</td>\n",
       "    </tr>\n",
       "    <tr>\n",
       "      <th>141</th>\n",
       "      <td>6.9</td>\n",
       "      <td>3.1</td>\n",
       "      <td>5.1</td>\n",
       "      <td>2.3</td>\n",
       "      <td>2</td>\n",
       "    </tr>\n",
       "    <tr>\n",
       "      <th>44</th>\n",
       "      <td>5.1</td>\n",
       "      <td>3.8</td>\n",
       "      <td>1.9</td>\n",
       "      <td>0.4</td>\n",
       "      <td>0</td>\n",
       "    </tr>\n",
       "    <tr>\n",
       "      <th>29</th>\n",
       "      <td>4.7</td>\n",
       "      <td>3.2</td>\n",
       "      <td>1.6</td>\n",
       "      <td>0.2</td>\n",
       "      <td>0</td>\n",
       "    </tr>\n",
       "    <tr>\n",
       "      <th>120</th>\n",
       "      <td>6.9</td>\n",
       "      <td>3.2</td>\n",
       "      <td>5.7</td>\n",
       "      <td>2.3</td>\n",
       "      <td>2</td>\n",
       "    </tr>\n",
       "  </tbody>\n",
       "</table>\n",
       "</div>"
      ],
      "text/plain": [
       "     SepalLengthCm  SepalWidthCm  PetalLengthCm  PetalWidthCm  Species\n",
       "14             5.8           4.0            1.2           0.2        0\n",
       "98             5.1           2.5            3.0           1.1        1\n",
       "75             6.6           3.0            4.4           1.4        1\n",
       "16             5.4           3.9            1.3           0.4        0\n",
       "131            7.9           3.8            6.4           2.0        2\n",
       "56             6.3           3.3            4.7           1.6        1\n",
       "141            6.9           3.1            5.1           2.3        2\n",
       "44             5.1           3.8            1.9           0.4        0\n",
       "29             4.7           3.2            1.6           0.2        0\n",
       "120            6.9           3.2            5.7           2.3        2"
      ]
     },
     "execution_count": 524,
     "metadata": {},
     "output_type": "execute_result"
    }
   ],
   "source": [
    "train = unorganized.iloc[:int(0.7*len(unorganized)), :]\n",
    "train.head(10)"
   ]
  },
  {
   "cell_type": "code",
   "execution_count": 525,
   "id": "2c53b7ab",
   "metadata": {},
   "outputs": [
    {
     "name": "stdout",
     "output_type": "stream",
     "text": [
      "(105, 5)\n"
     ]
    }
   ],
   "source": [
    "print(train.shape)"
   ]
  },
  {
   "cell_type": "code",
   "execution_count": 526,
   "id": "736126a9",
   "metadata": {},
   "outputs": [
    {
     "data": {
      "text/html": [
       "<div>\n",
       "<style scoped>\n",
       "    .dataframe tbody tr th:only-of-type {\n",
       "        vertical-align: middle;\n",
       "    }\n",
       "\n",
       "    .dataframe tbody tr th {\n",
       "        vertical-align: top;\n",
       "    }\n",
       "\n",
       "    .dataframe thead th {\n",
       "        text-align: right;\n",
       "    }\n",
       "</style>\n",
       "<table border=\"1\" class=\"dataframe\">\n",
       "  <thead>\n",
       "    <tr style=\"text-align: right;\">\n",
       "      <th></th>\n",
       "      <th>SepalLengthCm</th>\n",
       "      <th>SepalWidthCm</th>\n",
       "      <th>PetalLengthCm</th>\n",
       "      <th>PetalWidthCm</th>\n",
       "      <th>Species</th>\n",
       "    </tr>\n",
       "  </thead>\n",
       "  <tbody>\n",
       "    <tr>\n",
       "      <th>26</th>\n",
       "      <td>5.0</td>\n",
       "      <td>3.4</td>\n",
       "      <td>1.6</td>\n",
       "      <td>0.4</td>\n",
       "      <td>0</td>\n",
       "    </tr>\n",
       "    <tr>\n",
       "      <th>76</th>\n",
       "      <td>6.8</td>\n",
       "      <td>2.8</td>\n",
       "      <td>4.8</td>\n",
       "      <td>1.4</td>\n",
       "      <td>1</td>\n",
       "    </tr>\n",
       "    <tr>\n",
       "      <th>43</th>\n",
       "      <td>5.0</td>\n",
       "      <td>3.5</td>\n",
       "      <td>1.6</td>\n",
       "      <td>0.6</td>\n",
       "      <td>0</td>\n",
       "    </tr>\n",
       "    <tr>\n",
       "      <th>24</th>\n",
       "      <td>4.8</td>\n",
       "      <td>3.4</td>\n",
       "      <td>1.9</td>\n",
       "      <td>0.2</td>\n",
       "      <td>0</td>\n",
       "    </tr>\n",
       "    <tr>\n",
       "      <th>136</th>\n",
       "      <td>6.3</td>\n",
       "      <td>3.4</td>\n",
       "      <td>5.6</td>\n",
       "      <td>2.4</td>\n",
       "      <td>2</td>\n",
       "    </tr>\n",
       "    <tr>\n",
       "      <th>121</th>\n",
       "      <td>5.6</td>\n",
       "      <td>2.8</td>\n",
       "      <td>4.9</td>\n",
       "      <td>2.0</td>\n",
       "      <td>2</td>\n",
       "    </tr>\n",
       "    <tr>\n",
       "      <th>143</th>\n",
       "      <td>6.8</td>\n",
       "      <td>3.2</td>\n",
       "      <td>5.9</td>\n",
       "      <td>2.3</td>\n",
       "      <td>2</td>\n",
       "    </tr>\n",
       "    <tr>\n",
       "      <th>49</th>\n",
       "      <td>5.0</td>\n",
       "      <td>3.3</td>\n",
       "      <td>1.4</td>\n",
       "      <td>0.2</td>\n",
       "      <td>0</td>\n",
       "    </tr>\n",
       "    <tr>\n",
       "      <th>21</th>\n",
       "      <td>5.1</td>\n",
       "      <td>3.7</td>\n",
       "      <td>1.5</td>\n",
       "      <td>0.4</td>\n",
       "      <td>0</td>\n",
       "    </tr>\n",
       "    <tr>\n",
       "      <th>70</th>\n",
       "      <td>5.9</td>\n",
       "      <td>3.2</td>\n",
       "      <td>4.8</td>\n",
       "      <td>1.8</td>\n",
       "      <td>1</td>\n",
       "    </tr>\n",
       "  </tbody>\n",
       "</table>\n",
       "</div>"
      ],
      "text/plain": [
       "     SepalLengthCm  SepalWidthCm  PetalLengthCm  PetalWidthCm  Species\n",
       "26             5.0           3.4            1.6           0.4        0\n",
       "76             6.8           2.8            4.8           1.4        1\n",
       "43             5.0           3.5            1.6           0.6        0\n",
       "24             4.8           3.4            1.9           0.2        0\n",
       "136            6.3           3.4            5.6           2.4        2\n",
       "121            5.6           2.8            4.9           2.0        2\n",
       "143            6.8           3.2            5.9           2.3        2\n",
       "49             5.0           3.3            1.4           0.2        0\n",
       "21             5.1           3.7            1.5           0.4        0\n",
       "70             5.9           3.2            4.8           1.8        1"
      ]
     },
     "execution_count": 526,
     "metadata": {},
     "output_type": "execute_result"
    }
   ],
   "source": [
    "test = unorganized.iloc[int(0.7*len(unorganized)): , :]\n",
    "test.head(10)"
   ]
  },
  {
   "cell_type": "code",
   "execution_count": 527,
   "id": "e60cf0a7",
   "metadata": {},
   "outputs": [
    {
     "name": "stdout",
     "output_type": "stream",
     "text": [
      "(45, 5)\n"
     ]
    }
   ],
   "source": [
    "print(test.shape)"
   ]
  },
  {
   "cell_type": "code",
   "execution_count": 528,
   "id": "c32045c2",
   "metadata": {},
   "outputs": [],
   "source": [
    "#for feature variables in training and testing dataset\n",
    "X_train = train.iloc[:, :4]\n",
    "X_test = test.iloc[:, :4]\n",
    "\n",
    "#for target variables in training and testing dataset\n",
    "y_train = train.iloc[:, 4:]\n",
    "y_test = test.iloc[:, 4:]"
   ]
  },
  {
   "cell_type": "code",
   "execution_count": 529,
   "id": "a04729e9",
   "metadata": {},
   "outputs": [
    {
     "data": {
      "text/html": [
       "<div>\n",
       "<style scoped>\n",
       "    .dataframe tbody tr th:only-of-type {\n",
       "        vertical-align: middle;\n",
       "    }\n",
       "\n",
       "    .dataframe tbody tr th {\n",
       "        vertical-align: top;\n",
       "    }\n",
       "\n",
       "    .dataframe thead th {\n",
       "        text-align: right;\n",
       "    }\n",
       "</style>\n",
       "<table border=\"1\" class=\"dataframe\">\n",
       "  <thead>\n",
       "    <tr style=\"text-align: right;\">\n",
       "      <th></th>\n",
       "      <th>SepalLengthCm</th>\n",
       "      <th>SepalWidthCm</th>\n",
       "      <th>PetalLengthCm</th>\n",
       "      <th>PetalWidthCm</th>\n",
       "    </tr>\n",
       "  </thead>\n",
       "  <tbody>\n",
       "    <tr>\n",
       "      <th>14</th>\n",
       "      <td>5.8</td>\n",
       "      <td>4.0</td>\n",
       "      <td>1.2</td>\n",
       "      <td>0.2</td>\n",
       "    </tr>\n",
       "    <tr>\n",
       "      <th>98</th>\n",
       "      <td>5.1</td>\n",
       "      <td>2.5</td>\n",
       "      <td>3.0</td>\n",
       "      <td>1.1</td>\n",
       "    </tr>\n",
       "    <tr>\n",
       "      <th>75</th>\n",
       "      <td>6.6</td>\n",
       "      <td>3.0</td>\n",
       "      <td>4.4</td>\n",
       "      <td>1.4</td>\n",
       "    </tr>\n",
       "    <tr>\n",
       "      <th>16</th>\n",
       "      <td>5.4</td>\n",
       "      <td>3.9</td>\n",
       "      <td>1.3</td>\n",
       "      <td>0.4</td>\n",
       "    </tr>\n",
       "    <tr>\n",
       "      <th>131</th>\n",
       "      <td>7.9</td>\n",
       "      <td>3.8</td>\n",
       "      <td>6.4</td>\n",
       "      <td>2.0</td>\n",
       "    </tr>\n",
       "  </tbody>\n",
       "</table>\n",
       "</div>"
      ],
      "text/plain": [
       "     SepalLengthCm  SepalWidthCm  PetalLengthCm  PetalWidthCm\n",
       "14             5.8           4.0            1.2           0.2\n",
       "98             5.1           2.5            3.0           1.1\n",
       "75             6.6           3.0            4.4           1.4\n",
       "16             5.4           3.9            1.3           0.4\n",
       "131            7.9           3.8            6.4           2.0"
      ]
     },
     "execution_count": 529,
     "metadata": {},
     "output_type": "execute_result"
    }
   ],
   "source": [
    "X_train.head()"
   ]
  },
  {
   "cell_type": "code",
   "execution_count": 530,
   "id": "d642ddab",
   "metadata": {},
   "outputs": [],
   "source": [
    "def initialize_weights_and_bias(mode, distribution='normal'):\n",
    "    if mode == 'random':\n",
    "        W1 = np.random.random((3, 4)).astype(np.float32)\n",
    "        b1 = np.random.random((1, 3)).astype(np.float32)\n",
    "        W2 = np.random.random((3, 3)).astype(np.float32)\n",
    "        b2 = np.random.random((1, 3)).astype(np.float32)\n",
    "        W3 = np.random.random((3, 3)).astype(np.float32)\n",
    "        b3 = np.random.random((1, 3)).astype(np.float32)\n",
    "        W4 = np.random.random((3, 3)).astype(np.float32)\n",
    "        b4 = np.random.random((1, 3)).astype(np.float32)\n",
    "        W5 = np.random.random((3, 3)).astype(np.float32)\n",
    "        b5 = np.random.random((1, 3)).astype(np.float32)\n",
    "    elif mode == 'xavier':\n",
    "        if distribution == 'normal':\n",
    "            W1 = np.random.normal(loc=0.0, scale=np.sqrt(2/(4+3)), size=(3, 4)).astype(np.float32)\n",
    "            b1 = np.random.normal(loc=0.0, scale=np.sqrt(2/(3+3)), size=(1, 3)).astype(np.float32)\n",
    "            W2 = np.random.normal(loc=0.0, scale=np.sqrt(2/(3+3)), size=(3, 3)).astype(np.float32)\n",
    "            b2 = np.random.normal(loc=0.0, scale=np.sqrt(2/(3+3)), size=(1, 3)).astype(np.float32)\n",
    "            W3 = np.random.normal(loc=0.0, scale=np.sqrt(2/(3+3)), size=(3, 3)).astype(np.float32)\n",
    "            b3 = np.random.normal(loc=0.0, scale=np.sqrt(2/(3+3)), size=(1, 3)).astype(np.float32)\n",
    "            W4 = np.random.normal(loc=0.0, scale=np.sqrt(2/(3+3)), size=(3, 3)).astype(np.float32)\n",
    "            b4 = np.random.normal(loc=0.0, scale=np.sqrt(2/(3+3)), size=(1, 3)).astype(np.float32)\n",
    "            W5 = np.random.normal(loc=0.0, scale=np.sqrt(2/(3+3)), size=(3, 3)).astype(np.float32)\n",
    "            b5 = np.random.normal(loc=0.0, scale=np.sqrt(2/(3+3)), size=(1, 3)).astype(np.float32)\n",
    "        elif distribution == 'uniform':\n",
    "            W1 = np.random.uniform(low = -np.sqrt(6/(4+3)), high = (6/np.sqrt(4+3)), size=(3, 4)).astype(np.float32)\n",
    "            b1 = np.random.uniform(low = -np.sqrt(6/(3+3)), high = (6/np.sqrt(3+3)), size=(1, 3)).astype(np.float32)\n",
    "            W2 = np.random.uniform(low = -np.sqrt(6/(3+3)), high = (6/np.sqrt(3+3)), size=(3, 3)).astype(np.float32)\n",
    "            b2 = np.random.uniform(low = -np.sqrt(6/(3+3)), high = (6/np.sqrt(3+3)), size=(1, 3)).astype(np.float32)\n",
    "            W3 = np.random.uniform(low = -np.sqrt(6/(4+3)), high = (6/np.sqrt(3+3)), size=(3, 3)).astype(np.float32)\n",
    "            b3 = np.random.uniform(low = -np.sqrt(6/(3+3)), high = (6/np.sqrt(3+3)), size=(1, 3)).astype(np.float32)\n",
    "            W4 = np.random.uniform(low = -np.sqrt(6/(3+3)), high = (6/np.sqrt(3+3)), size=(3, 3)).astype(np.float32)\n",
    "            b4 = np.random.uniform(low = -np.sqrt(6/(3+3)), high = (6/np.sqrt(3+3)), size=(1, 3)).astype(np.float32)\n",
    "            W5 = np.random.uniform(low = -np.sqrt(6/(3+3)), high = (6/np.sqrt(3+3)), size=(3, 3)).astype(np.float32)\n",
    "            b5 = np.random.uniform(low = -np.sqrt(6/(3+3)), high = (6/np.sqrt(3+3)), size=(1, 3)).astype(np.float32)\n",
    "    elif mode == 'constant':\n",
    "        W1 = np.ones((3, 4))\n",
    "        b1 = np.ones((1, 3))\n",
    "        W2 = np.ones((3, 3))\n",
    "        b2 = np.ones((1, 3))\n",
    "        W3 = np.ones((3, 3))\n",
    "        b3 = np.ones((1, 3))\n",
    "        W4 = np.ones((3, 3))\n",
    "        b4 = np.ones((1, 3))\n",
    "        W5 = np.ones((3, 3))\n",
    "        b5 = np.ones((1, 3))\n",
    "    return W1, b1, W2, b2, W3, b3, W4, b4, W5, b5"
   ]
  },
  {
   "cell_type": "code",
   "execution_count": 531,
   "id": "ec707127",
   "metadata": {},
   "outputs": [],
   "source": [
    "#Activation Functions\n",
    "def sigmoid(x):\n",
    "    return 1. / (1. + np.exp(-x))\n",
    "\n",
    "def softmax(x):\n",
    "    e_x = np.exp(x - np.max(x))\n",
    "    return e_x / e_x.sum(axis=1)\n",
    "\n",
    "def tanh(x):\n",
    "    return np.tanh(x)"
   ]
  },
  {
   "cell_type": "code",
   "execution_count": 532,
   "id": "ce023bb3",
   "metadata": {},
   "outputs": [],
   "source": [
    "def forward_pass(x, W1, b1, W2, b2):\n",
    "    \n",
    "    #First layer\n",
    "    x = np.array(x, dtype=np.float32)\n",
    "    res1 = np.matmul(x, W1.T) + b1\n",
    "    layer1_out = sigmoid(res1)\n",
    "    # print(layer1_out)\n",
    "    \n",
    "    #Second layer\n",
    "    res2 = np.matmul(layer1_out, W2.T) + b2\n",
    "    layer2_out = softmax(res2)\n",
    "    #print(layer2_out)\n",
    "    return layer2_out.flatten(), layer1_out.flatten()"
   ]
  },
  {
   "cell_type": "code",
   "execution_count": 533,
   "id": "7ae16d04",
   "metadata": {},
   "outputs": [],
   "source": [
    "def forward_pass(x, W1, b1, W2, b2, W3, b3, W4, b4, W5, b5):\n",
    "    \n",
    "    #First layer\n",
    "    x = np.array(x, dtype=np.float32)\n",
    "    res1 = np.matmul(x, W1.T) + b1\n",
    "    layer1_out = sigmoid(res1)\n",
    "    var_res1 = np.std(res1)**2\n",
    "    var_layer1_out = np.std(layer1_out)**2\n",
    "    print(f\"Layer 1 = {res1} Sigmoid Act = {layer1_out}\\n Variance Layer1 = {var_res1} Variance Sigmoid = {var_layer1_out}\")\n",
    "    \n",
    "    #Second layer\n",
    "    res2 = np.matmul(layer1_out, W2.T) + b2\n",
    "    layer2_out = tanh(res2)\n",
    "    var_res2 = np.std(res2)**2\n",
    "    var_layer2_out = np.std(layer2_out)**2\n",
    "    print(f\"Layer 2 = {res2} TanH Act = {layer2_out}\")\n",
    "    \n",
    "    #Third layer\n",
    "    res3 = np.matmul(layer2_out, W3.T) + b3\n",
    "    layer3_out = sigmoid(res3)\n",
    "    var_res3 = np.std(res3)**2\n",
    "    var_layer3_out = np.std(layer3_out)**2\n",
    "    print(f\"Layer 3 = {res3} Sigmoid Act = {layer3_out}\")\n",
    "    \n",
    "    #Fourth Layer\n",
    "    res4 = np.matmul(layer3_out, W4.T) + b4\n",
    "    layer4_out = tanh(res4)\n",
    "    var_res4 = np.std(res4)**2\n",
    "    var_layer4_out = np.std(layer4_out)**2\n",
    "    print(f\"Layer 4 = {res4} Tanh Act = {layer4_out}\")\n",
    "    \n",
    "    #Fifth Layer\n",
    "    res5 = np.matmul(layer4_out, W5.T) + b5\n",
    "    layer5_out = softmax(res5)\n",
    "    var_res5 = np.std(res5)**2\n",
    "    var_layer5_out = np.std(layer5_out)**2\n",
    "    print(f\"Layer 5 = {res5} Softmax Act = {layer5_out}\")\n",
    "    \n",
    "    return res1, res2, res3, res4, res5, layer1_out.flatten(), layer2_out.flatten(), layer3_out.flatten(), layer4_out.flatten(), layer5_out.flatten()\n",
    "    #return res1, res2, res3, res4, res5"
   ]
  },
  {
   "cell_type": "code",
   "execution_count": 534,
   "id": "c8462aa7",
   "metadata": {},
   "outputs": [],
   "source": [
    "def backward_pass(x, W1, b1, W2, b2, y_hat, y, z1, lr = 0.01):\n",
    "    \n",
    "    x = np.array(x, dtype= np.float32).reshape(1,4)\n",
    "    y = np.array(y, dtype = np.float32).reshape(1,3)\n",
    "    y_hat = np.array(y_hat, dtype=np.float32).reshape(1,3)\n",
    "    z1 = np.array(z1, dtype=np.float32).reshape(1,3)\n",
    "    \n",
    "    res = y_hat - y                    \n",
    "    dw2 = np.matmul(res.T, z1)                                                # 3x1 * 1x3 = 3x3\n",
    "    db2 = res                                                                 \n",
    "    grad_w1 = np.matmul(res, W2)          \n",
    "    grad_w1 = np.matmul(grad_w1, z1.T)                                        # 1x3 * 3x1 = 1x1\n",
    "    grad_w2 = 1 - z1                                                          # 1x3\n",
    "    db1 = np.matmul(grad_w1, grad_w2)                                  \n",
    "    dw1 = np.matmul(db1.T, x)                             \n",
    "    \n",
    "    up_W2 = W2 - lr*dw2\n",
    "    up_b2 = b2 - lr*db2\n",
    "    up_b1 = b1 - lr*db1\n",
    "    up_W1 = W1 - lr*dw1\n",
    "    \n",
    "    return up_W2, up_b2, up_W1, up_b1\n",
    "    "
   ]
  },
  {
   "cell_type": "markdown",
   "id": "6480ce44",
   "metadata": {},
   "source": [
    "## Xavier Initialiazation with Uniform Distribution"
   ]
  },
  {
   "cell_type": "markdown",
   "id": "407231de",
   "metadata": {},
   "source": [
    "Initialization and Passing our inputs from the different first layer."
   ]
  },
  {
   "cell_type": "code",
   "execution_count": 535,
   "id": "e4bbd5bd",
   "metadata": {
    "scrolled": false
   },
   "outputs": [
    {
     "name": "stdout",
     "output_type": "stream",
     "text": [
      "Layer 1 = [[13.772343  -4.9782214 10.136034 ]] Sigmoid Act = [[0.9999989 0.0068392 0.9999604]]\n",
      "Layer 2 = [[ 1.0163094  3.3090134 -0.5662402]] TanH Act = [[ 0.76835907  0.99733144 -0.51259273]]\n",
      "Layer 3 = [[2.1381404  0.21389925 4.5129523 ]] Sigmoid Act = [[0.8945554  0.55327183 0.9891529 ]]\n",
      "Layer 4 = [[ 1.7295865 -0.0747928  4.321389 ]] Tanh Act = [[ 0.93900704 -0.07465365  0.99964726]]\n",
      "Layer 5 = [[3.8311386  0.07641802 1.739709  ]] Softmax Act = [[0.87190235 0.02040861 0.10768903]]\n"
     ]
    },
    {
     "data": {
      "image/png": "[encoded data removed]",
      "text/plain": [
       "<Figure size 432x288 with 1 Axes>"
      ]
     },
     "metadata": {
      "needs_background": "light"
     },
     "output_type": "display_data"
    },
    {
     "name": "stdout",
     "output_type": "stream",
     "text": [
      "Layer 1 = [[13.84638   -3.7136955  7.843448 ]] Sigmoid Act = [[0.99999905 0.02380665 0.99960786]]\n",
      "Layer 2 = [[ 1.0168633  3.3087    -0.5662018]] TanH Act = [[ 0.7685859  0.9973298 -0.5125644]]\n",
      "Layer 3 = [[2.1383007  0.21413505 4.513516  ]] Sigmoid Act = [[0.89457047 0.5533302  0.9891589 ]]\n",
      "Layer 4 = [[ 1.7295648  -0.07468206  4.321418  ]] Tanh Act = [[ 0.9390045  -0.07454352  0.9996473 ]]\n",
      "Layer 5 = [[3.8313813  0.07665531 1.7396169 ]] Softmax Act = [[0.8719339  0.02040924 0.10765687]]\n"
     ]
    },
    {
     "data": {
      "image/png": "[encoded data removed]",
      "text/plain": [
       "<Figure size 432x288 with 1 Axes>"
      ]
     },
     "metadata": {
      "needs_background": "light"
     },
     "output_type": "display_data"
    },
    {
     "name": "stdout",
     "output_type": "stream",
     "text": [
      "Layer 1 = [[17.579496 -5.053182  9.449441]] Sigmoid Act = [[1.         0.00634841 0.9999213 ]]\n",
      "Layer 2 = [[ 1.016253    3.3089685  -0.56625485]] TanH Act = [[ 0.76833594  0.9973312  -0.5126035 ]]\n",
      "Layer 3 = [[2.1381297 0.2138809 4.5128794]] Sigmoid Act = [[0.8945543 0.5532673 0.9891522]]\n",
      "Layer 4 = [[ 1.729588   -0.07480145  4.321387  ]] Tanh Act = [[ 0.9390072  -0.07466225  0.99964726]]\n",
      "Layer 5 = [[3.8311198  0.07639942 1.7397162 ]] Softmax Act = [[0.8718999  0.02040855 0.10769155]]\n"
     ]
    },
    {
     "data": {
      "image/png": "[encoded data removed]",
      "text/plain": [
       "<Figure size 432x288 with 1 Axes>"
      ]
     },
     "metadata": {
      "needs_background": "light"
     },
     "output_type": "display_data"
    }
   ],
   "source": [
    "W1, b1, W2, b2, W3, b3, W4, b4, W5, b5 = initialize_weights_and_bias('xavier', distribution='uniform')\n",
    "cost = 0\n",
    "losses = []\n",
    "epochs = 1\n",
    "for j in range(epochs):\n",
    "    losss = 0\n",
    "    tp = 0\n",
    "    for i in range(int(len(X_train)/30)):\n",
    "        \n",
    "        x = np.array(X_train.iloc[i:i+1, :], dtype=np.float32).reshape(1,4)\n",
    "        target = np.array(y_train)\n",
    "        y = []\n",
    "        if target[i] == 0:\n",
    "            y = [1, 0, 0]\n",
    "        elif target[i] == 1:\n",
    "            y = [0, 1, 0]\n",
    "        elif target[i] == 2:\n",
    "            y = [0, 0, 1]\n",
    "\n",
    "        #network forward pass\n",
    "        res1, res2, res3, res4, res5, layer1_out, layer2_out, layer3_out, layer4_out, y_hat = forward_pass(x, W1, b1, W2, b2, W3, b3, W4, b4, W5, b5)\n",
    "        \n",
    "        #the true positives for this case, to calculate accuracy\n",
    "        if np.argmax(y_hat) == np.argmax(y):\n",
    "            tp += 1\n",
    "\n",
    "        m1 = np.mean(res1)\n",
    "        m2 = np.mean(res2)\n",
    "        m3 = np.mean(res3)\n",
    "        m4 = np.mean(res4)\n",
    "        m5 = np.mean(res5)\n",
    "\n",
    "        s1 = np.std(res1)\n",
    "        s2 = np.std(res2)\n",
    "        s3 = np.std(res3)\n",
    "        s4 = np.std(res4)\n",
    "        s5 = np.std(res5)\n",
    "        \n",
    "        \n",
    "\n",
    "        x1 = np.linspace(m1-3*s1, m1+3*s1, 100)\n",
    "        x2 = np.linspace(m2-3*s2, m2+3*s2, 100)\n",
    "        x3 = np.linspace(m3-3*s3, m3+3*s3, 100)\n",
    "        x4 = np.linspace(m4-3*s4, m4+3*s4, 100)\n",
    "        x5 = np.linspace(m5-3*s5, m5+3*s5, 100)\n",
    "\n",
    "        plt.plot(x1, norm.pdf(x1, m1, s1), label = 'Hidden Layer 1')\n",
    "        plt.plot(x2, norm.pdf(x2, m2, s2), label = 'Hidden Layer 2')\n",
    "        plt.plot(x3, norm.pdf(x3, m3, s3), label = 'Hidden Layer 3')\n",
    "        plt.plot(x4, norm.pdf(x4, m4, s4), label = 'Hidden Layer 4')\n",
    "        plt.plot(x5, norm.pdf(x5, m5, s5), label = 'Hidden Layer 5')\n",
    "        plt.legend(loc='upper right')\n",
    "        plt.show()"
   ]
  },
  {
   "cell_type": "code",
   "execution_count": 536,
   "id": "99c6aa86",
   "metadata": {},
   "outputs": [
    {
     "name": "stdout",
     "output_type": "stream",
     "text": [
      "Accuracy for training data: 1.0%\n"
     ]
    }
   ],
   "source": [
    "print(f\"Accuracy for training data: {round(tp/len(X_train), 2)*100}%\")"
   ]
  },
  {
   "cell_type": "code",
   "execution_count": 537,
   "id": "33333517",
   "metadata": {},
   "outputs": [
    {
     "data": {
      "image/png": "[encoded data removed]",
      "text/plain": [
       "<Figure size 432x288 with 1 Axes>"
      ]
     },
     "metadata": {
      "needs_background": "light"
     },
     "output_type": "display_data"
    }
   ],
   "source": [
    "m1 = np.mean(W1)\n",
    "m2 = np.mean(W2)\n",
    "m3 = np.mean(W3)\n",
    "m4 = np.mean(W4)\n",
    "m5 = np.mean(W5)\n",
    "\n",
    "s1 = np.std(W1)\n",
    "s2 = np.std(W2)\n",
    "s3 = np.std(W3)\n",
    "s4 = np.std(W4)\n",
    "s5 = np.std(W5)\n",
    "\n",
    "x1 = np.linspace(m1-3*s1, m1+3*s1, 100)\n",
    "x2 = np.linspace(m2-3*s2, m2+3*s2, 100)\n",
    "x3 = np.linspace(m3-3*s3, m3+3*s3, 100)\n",
    "x4 = np.linspace(m4-3*s4, m4+3*s4, 100)\n",
    "x5 = np.linspace(m5-3*s5, m5+3*s5, 100)\n",
    "\n",
    "plt.plot(x1, norm.pdf(x1, m1, s1), label = 'Weight 1')\n",
    "plt.plot(x2, norm.pdf(x2, m2, s2), label = 'Weight 2')\n",
    "plt.plot(x3, norm.pdf(x3, m3, s3), label = 'Weight 3')\n",
    "plt.plot(x4, norm.pdf(x4, m4, s4), label = 'Weight 4')\n",
    "plt.plot(x5, norm.pdf(x5, m5, s5), label = 'Weight 5')\n",
    "plt.legend(loc='upper right')\n",
    "plt.show()"
   ]
  },
  {
   "cell_type": "code",
   "execution_count": null,
   "id": "bfbbaa77",
   "metadata": {},
   "outputs": [],
   "source": []
  },
  {
   "cell_type": "markdown",
   "id": "c9a51526",
   "metadata": {},
   "source": [
    "## Xavier Initialization with Normal Distribution"
   ]
  },
  {
   "cell_type": "code",
   "execution_count": 538,
   "id": "a2777de3",
   "metadata": {},
   "outputs": [
    {
     "name": "stdout",
     "output_type": "stream",
     "text": [
      "Layer 1 = [[-6.8712053  4.1202273 -2.1440163]] Sigmoid Act = [[0.00103615 0.98401874 0.10489171]]\n",
      "Layer 2 = [[ 2.4386852  -0.5161527   0.64039326]] TanH Act = [[ 0.9848811  -0.4747252   0.56516725]]\n",
      "Layer 3 = [[ 0.5719193   0.08772764 -0.10161355]] Sigmoid Act = [[0.639206   0.5219178  0.47461846]]\n",
      "Layer 4 = [[ 1.3264744  0.3058687 -1.4626747]] Tanh Act = [[ 0.868385    0.29667404 -0.8981708 ]]\n",
      "Layer 5 = [[ 0.24470796 -0.8790153  -2.522706  ]] Softmax Act = [[0.7205174  0.23421659 0.04526597]]\n"
     ]
    },
    {
     "data": {
      "image/png": "[encoded data removed]",
      "text/plain": [
       "<Figure size 432x288 with 1 Axes>"
      ]
     },
     "metadata": {
      "needs_background": "light"
     },
     "output_type": "display_data"
    },
    {
     "name": "stdout",
     "output_type": "stream",
     "text": [
      "Layer 1 = [[-6.6843615  4.4143147 -2.4886556]] Sigmoid Act = [[0.00124875 0.9880419  0.07665731]]\n",
      "Layer 2 = [[ 2.4356797 -0.5323165  0.6384517]] TanH Act = [[ 0.9847907  -0.48714983  0.56384444]]\n",
      "Layer 3 = [[ 0.5813036   0.08795226 -0.09644186]] Sigmoid Act = [[0.6413673  0.5219739  0.47590825]]\n",
      "Layer 4 = [[ 1.3281621  0.307356  -1.462117 ]] Tanh Act = [[ 0.86879945  0.29802984 -0.89806294]]\n",
      "Layer 5 = [[ 0.24446301 -0.87902355 -2.5238407 ]] Softmax Act = [[0.7205065  0.23426852 0.04522504]]\n"
     ]
    },
    {
     "data": {
      "image/png": "[encoded data removed]",
      "text/plain": [
       "<Figure size 432x288 with 1 Axes>"
      ]
     },
     "metadata": {
      "needs_background": "light"
     },
     "output_type": "display_data"
    },
    {
     "name": "stdout",
     "output_type": "stream",
     "text": [
      "Layer 1 = [[-8.823925   5.9086385 -3.7736526]] Sigmoid Act = [[1.4714793e-04 9.9729151e-01 2.2452332e-02]]\n",
      "Layer 2 = [[ 2.431428   -0.56251043  0.6353483 ]] TanH Act = [[ 0.98466176 -0.5098377   0.56172395]]\n",
      "Layer 3 = [[ 0.59861577  0.08829045 -0.08690271]] Sigmoid Act = [[0.64533955 0.5220583  0.478288  ]]\n",
      "Layer 4 = [[ 1.3312628   0.31008577 -1.4610912 ]] Tanh Act = [[ 0.8695576   0.30051512 -0.89786434]]\n",
      "Layer 5 = [[ 0.2440136  -0.87903893 -2.525918  ]] Softmax Act = [[0.72048616 0.2343636  0.0451502 ]]\n"
     ]
    },
    {
     "data": {
      "image/png": "[encoded data removed]",
      "text/plain": [
       "<Figure size 432x288 with 1 Axes>"
      ]
     },
     "metadata": {
      "needs_background": "light"
     },
     "output_type": "display_data"
    }
   ],
   "source": [
    "W1, b1, W2, b2, W3, b3, W4, b4, W5, b5 = initialize_weights_and_bias('xavier', distribution='normal')\n",
    "cost = 0\n",
    "losses = []\n",
    "epochs = 1\n",
    "for j in range(epochs):\n",
    "    losss = 0\n",
    "    tp = 0\n",
    "    for i in range(int(len(X_train)/30)):\n",
    "        \n",
    "        x = np.array(X_train.iloc[i:i+1, :], dtype=np.float32).reshape(1,4)\n",
    "        target = np.array(y_train)\n",
    "        y = []\n",
    "        if target[i] == 0:\n",
    "            y = [1, 0, 0]\n",
    "        elif target[i] == 1:\n",
    "            y = [0, 1, 0]\n",
    "        elif target[i] == 2:\n",
    "            y = [0, 0, 1]\n",
    "\n",
    "        #network forward pass\n",
    "        res1, res2, res3, res4, res5, layer1_out, layer2_out, layer3_out, layer4_out, y_hat = forward_pass(x, W1, b1, W2, b2, W3, b3, W4, b4, W5, b5)\n",
    "        \n",
    "        #the true positives for this case, to calculate accuracy\n",
    "        if np.argmax(y_hat) == np.argmax(y):\n",
    "            tp += 1\n",
    "\n",
    "        m1 = np.mean(res1)\n",
    "        m2 = np.mean(res2)\n",
    "        m3 = np.mean(res3)\n",
    "        m4 = np.mean(res4)\n",
    "        m5 = np.mean(res5)\n",
    "\n",
    "        s1 = np.std(res1)\n",
    "        s2 = np.std(res2)\n",
    "        s3 = np.std(res3)\n",
    "        s4 = np.std(res4)\n",
    "        s5 = np.std(res5)\n",
    "\n",
    "        x1 = np.linspace(m1-3*s1, m1+3*s1, 100)\n",
    "        x2 = np.linspace(m2-3*s2, m2+3*s2, 100)\n",
    "        x3 = np.linspace(m3-3*s3, m3+3*s3, 100)\n",
    "        x4 = np.linspace(m4-3*s4, m4+3*s4, 100)\n",
    "        x5 = np.linspace(m5-3*s5, m5+3*s5, 100)\n",
    "\n",
    "        plt.plot(x1, norm.pdf(x1, m1, s1), label = 'Hidden Layer 1')\n",
    "        plt.plot(x2, norm.pdf(x2, m2, s2), label = 'Hidden Layer 2')\n",
    "        plt.plot(x3, norm.pdf(x3, m3, s3), label = 'Hidden Layer 3')\n",
    "        plt.plot(x4, norm.pdf(x4, m4, s4), label = 'Hidden Layer 4')\n",
    "        plt.plot(x5, norm.pdf(x5, m5, s5), label = 'Hidden Layer 5')\n",
    "        plt.legend(loc='upper right')\n",
    "        plt.show()\n"
   ]
  },
  {
   "cell_type": "code",
   "execution_count": 539,
   "id": "0f96ff01",
   "metadata": {},
   "outputs": [
    {
     "name": "stdout",
     "output_type": "stream",
     "text": [
      "Accuracy for training data: 1.0%\n"
     ]
    }
   ],
   "source": [
    "print(f\"Accuracy for training data: {round(tp/len(X_train), 2)*100}%\")"
   ]
  },
  {
   "cell_type": "markdown",
   "id": "ad3365f4",
   "metadata": {},
   "source": [
    "Calculating the mean of every weight, taking standard deviation and plotting a PDF of 1000 points on it based on mean and standard deviation"
   ]
  },
  {
   "cell_type": "code",
   "execution_count": 540,
   "id": "733fc5f7",
   "metadata": {},
   "outputs": [
    {
     "data": {
      "image/png": "[encoded data removed]",
      "text/plain": [
       "<Figure size 432x288 with 1 Axes>"
      ]
     },
     "metadata": {
      "needs_background": "light"
     },
     "output_type": "display_data"
    }
   ],
   "source": [
    "m1 = np.mean(W1)\n",
    "m2 = np.mean(W2)\n",
    "m3 = np.mean(W3)\n",
    "m4 = np.mean(W4)\n",
    "m5 = np.mean(W5)\n",
    "\n",
    "s1 = np.std(W1)\n",
    "s2 = np.std(W2)\n",
    "s3 = np.std(W3)\n",
    "s4 = np.std(W4)\n",
    "s5 = np.std(W5)\n",
    "\n",
    "x1 = np.linspace(m1-3*s1, m1+3*s1, 100)\n",
    "x2 = np.linspace(m2-3*s2, m2+3*s2, 100)\n",
    "x3 = np.linspace(m3-3*s3, m3+3*s3, 100)\n",
    "x4 = np.linspace(m4-3*s4, m4+3*s4, 100)\n",
    "x5 = np.linspace(m5-3*s5, m5+3*s5, 100)\n",
    "\n",
    "plt.plot(x1, norm.pdf(x1, m1, s1), label = 'Weight 1')\n",
    "plt.plot(x2, norm.pdf(x2, m2, s2), label = 'Weight 2')\n",
    "plt.plot(x3, norm.pdf(x3, m3, s3), label = 'Weight 3')\n",
    "plt.plot(x4, norm.pdf(x4, m4, s4), label = 'Weight 4')\n",
    "plt.plot(x5, norm.pdf(x5, m5, s5), label = 'Weight 5')\n",
    "plt.legend(loc='upper right')\n",
    "plt.show()"
   ]
  },
  {
   "cell_type": "markdown",
   "id": "60eea0c8",
   "metadata": {},
   "source": [
    "## Random Initialization"
   ]
  },
  {
   "cell_type": "code",
   "execution_count": 541,
   "id": "b769ac81",
   "metadata": {
    "scrolled": false
   },
   "outputs": [
    {
     "name": "stdout",
     "output_type": "stream",
     "text": [
      "Layer 1 = [[4.027332  5.803304  7.9345374]] Sigmoid Act = [[0.98249024 0.9969915  0.999642  ]]\n",
      "Layer 2 = [[2.2159429  2.1289794  0.55846906]] TanH Act = [[0.97649544 0.9720926  0.50684065]]\n",
      "Layer 3 = [[1.1607047 1.9626303 2.0986013]] Sigmoid Act = [[0.7614608  0.87681735 0.89076716]]\n",
      "Layer 4 = [[2.1361542 1.4416343 2.0088608]] Tanh Act = [[0.9724847 0.8940262 0.9646483]]\n",
      "Layer 5 = [[2.3729444 1.5150471 2.2090049]] Softmax Act = [[0.43997696 0.18657348 0.37344953]]\n"
     ]
    },
    {
     "data": {
      "image/png": "[encoded data removed]",
      "text/plain": [
       "<Figure size 432x288 with 1 Axes>"
      ]
     },
     "metadata": {
      "needs_background": "light"
     },
     "output_type": "display_data"
    },
    {
     "name": "stdout",
     "output_type": "stream",
     "text": [
      "Layer 1 = [[4.0383177 4.807469  7.154066 ]] Sigmoid Act = [[0.98267823 0.9918977  0.99921894]]\n",
      "Layer 2 = [[2.212523   2.1282668  0.55756205]] TanH Act = [[0.976336   0.97205335 0.50616634]]\n",
      "Layer 3 = [[1.1601791 1.9623146 2.0982165]] Sigmoid Act = [[0.76136523 0.87678325 0.89072967]]\n",
      "Layer 4 = [[2.1360762 1.4415542 2.0087876]] Tanh Act = [[0.9724805 0.8940102 0.9646432]]\n",
      "Layer 5 = [[2.3729224 1.5150331 2.2089868]] Softmax Act = [[0.43997568 0.18657443 0.3734499 ]]\n"
     ]
    },
    {
     "data": {
      "image/png": "[encoded data removed]",
      "text/plain": [
       "<Figure size 432x288 with 1 Axes>"
      ]
     },
     "metadata": {
      "needs_background": "light"
     },
     "output_type": "display_data"
    },
    {
     "name": "stdout",
     "output_type": "stream",
     "text": [
      "Layer 1 = [[5.1176248 6.058427  8.921589 ]] Sigmoid Act = [[0.9940454 0.9976674 0.9998665]]\n",
      "Layer 2 = [[2.220762   2.135419   0.56231093]] TanH Act = [[0.97671825 0.9724448  0.50969005]]\n",
      "Layer 3 = [[1.1627369 1.9640145 2.0998302]] Sigmoid Act = [[0.7618296 0.8769668 0.8908867]]\n",
      "Layer 4 = [[2.1364455 1.4419472 2.009137 ]] Tanh Act = [[0.97250056 0.89408904 0.96466744]]\n",
      "Layer 5 = [[2.3730292 1.5151016 2.2090755]] Softmax Act = [[0.43998182 0.18656984 0.37344834]]\n"
     ]
    },
    {
     "data": {
      "image/png": "[encoded data removed]",
      "text/plain": [
       "<Figure size 432x288 with 1 Axes>"
      ]
     },
     "metadata": {
      "needs_background": "light"
     },
     "output_type": "display_data"
    }
   ],
   "source": [
    "W1, b1, W2, b2, W3, b3, W4, b4, W5, b5 = initialize_weights_and_bias('random')\n",
    "\n",
    "losses = []\n",
    "epochs = 1\n",
    "for j in range(epochs):\n",
    "    losss = 0\n",
    "    tp = 0\n",
    "    for i in range(int(len(X_train)/30)):\n",
    "        \n",
    "        x = np.array(X_train.iloc[i:i+1, :], dtype=np.float32).reshape(1,4)\n",
    "        target = np.array(y_train)\n",
    "        y = []\n",
    "        if target[i] == 0:\n",
    "            y = [1, 0, 0]\n",
    "        elif target[i] == 1:\n",
    "            y = [0, 1, 0]\n",
    "        elif target[i] == 2:\n",
    "            y = [0, 0, 1]\n",
    "\n",
    "        #network forward pass\n",
    "        res1, res2, res3, res4, res5, layer1_out, layer2_out, layer3_out, layer4_out, y_hat = forward_pass(x, W1, b1, W2, b2, W3, b3, W4, b4, W5, b5)\n",
    "        \n",
    "        #the true positives for this case, to calculate accuracy\n",
    "        if np.argmax(y_hat) == np.argmax(y):\n",
    "            tp += 1\n",
    "\n",
    "        m1 = np.mean(res1)\n",
    "        m2 = np.mean(res2)\n",
    "        m3 = np.mean(res3)\n",
    "        m4 = np.mean(res4)\n",
    "        m5 = np.mean(res5)\n",
    "\n",
    "        s1 = np.std(res1)\n",
    "        s2 = np.std(res2)\n",
    "        s3 = np.std(res3)\n",
    "        s4 = np.std(res4)\n",
    "        s5 = np.std(res5)\n",
    "\n",
    "        x1 = np.linspace(m1-3*s1, m1+3*s1, 100)\n",
    "        x2 = np.linspace(m2-3*s2, m2+3*s2, 100)\n",
    "        x3 = np.linspace(m3-3*s3, m3+3*s3, 100)\n",
    "        x4 = np.linspace(m4-3*s4, m4+3*s4, 100)\n",
    "        x5 = np.linspace(m5-3*s5, m5+3*s5, 100)\n",
    "\n",
    "        plt.plot(x1, norm.pdf(x1, m1, s1), label = 'Hidden Layer 1')\n",
    "        plt.plot(x2, norm.pdf(x2, m2, s2), label = 'Hidden Layer 2')\n",
    "        plt.plot(x3, norm.pdf(x3, m3, s3), label = 'Hidden Layer 3')\n",
    "        plt.plot(x4, norm.pdf(x4, m4, s4), label = 'Hidden Layer 4')\n",
    "        plt.plot(x5, norm.pdf(x5, m5, s5), label = 'Hidden Layer 5')\n",
    "        plt.legend(loc='upper right')\n",
    "        plt.show()"
   ]
  },
  {
   "cell_type": "code",
   "execution_count": 542,
   "id": "3f82ff47",
   "metadata": {},
   "outputs": [
    {
     "name": "stdout",
     "output_type": "stream",
     "text": [
      "Accuracy for training data: 1.0%\n"
     ]
    }
   ],
   "source": [
    "print(f\"Accuracy for training data: {round(tp/len(X_train), 2)*100}%\")"
   ]
  },
  {
   "cell_type": "code",
   "execution_count": 543,
   "id": "d8263ef0",
   "metadata": {},
   "outputs": [
    {
     "data": {
      "image/png": "[encoded data removed]",
      "text/plain": [
       "<Figure size 432x288 with 1 Axes>"
      ]
     },
     "metadata": {
      "needs_background": "light"
     },
     "output_type": "display_data"
    }
   ],
   "source": [
    "m1 = np.mean(W1)\n",
    "m2 = np.mean(W2)\n",
    "m3 = np.mean(W3)\n",
    "m4 = np.mean(W4)\n",
    "m5 = np.mean(W5)\n",
    "\n",
    "s1 = np.std(W1)\n",
    "s2 = np.std(W2)\n",
    "s3 = np.std(W3)\n",
    "s4 = np.std(W4)\n",
    "s5 = np.std(W5)\n",
    "\n",
    "x1 = np.linspace(m1-3*s1, m1+3*s1, 100)\n",
    "x2 = np.linspace(m2-3*s2, m2+3*s2, 100)\n",
    "x3 = np.linspace(m3-3*s3, m3+3*s3, 100)\n",
    "x4 = np.linspace(m4-3*s4, m4+3*s4, 100)\n",
    "x5 = np.linspace(m5-3*s5, m5+3*s5, 100)\n",
    "\n",
    "plt.plot(x1, norm.pdf(x1, m1, s1), label = 'Hidden Layer 1')\n",
    "plt.plot(x2, norm.pdf(x2, m2, s2), label = 'Hidden Layer 2')\n",
    "plt.plot(x3, norm.pdf(x3, m3, s3), label = 'Hidden Layer 3')\n",
    "plt.plot(x4, norm.pdf(x4, m4, s4), label = 'Hidden Layer 4')\n",
    "plt.plot(x5, norm.pdf(x5, m5, s5), label = 'Hidden Layer 5')\n",
    "plt.legend(loc='upper right')\n",
    "plt.show()"
   ]
  },
  {
   "cell_type": "markdown",
   "id": "367656b9",
   "metadata": {},
   "source": [
    "## For constant uniform initialization"
   ]
  },
  {
   "cell_type": "code",
   "execution_count": 544,
   "id": "1b3dc0e3",
   "metadata": {},
   "outputs": [
    {
     "name": "stdout",
     "output_type": "stream",
     "text": [
      "Layer 1 = [[12.20000024 12.20000024 12.20000024]] Sigmoid Act = [[0.99999497 0.99999497 0.99999497]]\n",
      "Layer 2 = [[3.99998491 3.99998491 3.99998491]] TanH Act = [[0.99932928 0.99932928 0.99932928]]\n",
      "Layer 3 = [[3.99798784 3.99798784 3.99798784]] Sigmoid Act = [[0.98197822 0.98197822 0.98197822]]\n",
      "Layer 4 = [[3.94593465 3.94593465 3.94593465]] Tanh Act = [[0.99925274 0.99925274 0.99925274]]\n",
      "Layer 5 = [[3.99775822 3.99775822 3.99775822]] Softmax Act = [[0.33333333 0.33333333 0.33333333]]\n"
     ]
    },
    {
     "name": "stderr",
     "output_type": "stream",
     "text": [
      "c:\\users\\saumy\\appdata\\local\\programs\\python\\python38\\lib\\site-packages\\scipy\\stats\\_distn_infrastructure.py:1904: RuntimeWarning: invalid value encountered in true_divide\n",
      "  x = np.asarray((x - loc)/scale, dtype=dtyp)\n",
      "c:\\users\\saumy\\appdata\\local\\programs\\python\\python38\\lib\\site-packages\\scipy\\stats\\_distn_infrastructure.py:1904: RuntimeWarning: invalid value encountered in true_divide\n",
      "  x = np.asarray((x - loc)/scale, dtype=dtyp)\n"
     ]
    },
    {
     "data": {
      "image/png": "[encoded data removed]",
      "text/plain": [
       "<Figure size 432x288 with 1 Axes>"
      ]
     },
     "metadata": {
      "needs_background": "light"
     },
     "output_type": "display_data"
    },
    {
     "name": "stdout",
     "output_type": "stream",
     "text": [
      "Layer 1 = [[12.69999993 12.69999993 12.69999993]] Sigmoid Act = [[0.99999695 0.99999695 0.99999695]]\n",
      "Layer 2 = [[3.99999085 3.99999085 3.99999085]] TanH Act = [[0.99932929 0.99932929 0.99932929]]\n",
      "Layer 3 = [[3.99798786 3.99798786 3.99798786]] Sigmoid Act = [[0.98197822 0.98197822 0.98197822]]\n",
      "Layer 4 = [[3.94593465 3.94593465 3.94593465]] Tanh Act = [[0.99925274 0.99925274 0.99925274]]\n",
      "Layer 5 = [[3.99775822 3.99775822 3.99775822]] Softmax Act = [[0.33333333 0.33333333 0.33333333]]\n"
     ]
    },
    {
     "name": "stderr",
     "output_type": "stream",
     "text": [
      "c:\\users\\saumy\\appdata\\local\\programs\\python\\python38\\lib\\site-packages\\scipy\\stats\\_distn_infrastructure.py:1904: RuntimeWarning: invalid value encountered in true_divide\n",
      "  x = np.asarray((x - loc)/scale, dtype=dtyp)\n",
      "c:\\users\\saumy\\appdata\\local\\programs\\python\\python38\\lib\\site-packages\\scipy\\stats\\_distn_infrastructure.py:1904: RuntimeWarning: invalid value encountered in true_divide\n",
      "  x = np.asarray((x - loc)/scale, dtype=dtyp)\n",
      "c:\\users\\saumy\\appdata\\local\\programs\\python\\python38\\lib\\site-packages\\scipy\\stats\\_distn_infrastructure.py:1904: RuntimeWarning: invalid value encountered in true_divide\n",
      "  x = np.asarray((x - loc)/scale, dtype=dtyp)\n",
      "c:\\users\\saumy\\appdata\\local\\programs\\python\\python38\\lib\\site-packages\\scipy\\stats\\_distn_infrastructure.py:1904: RuntimeWarning: invalid value encountered in true_divide\n",
      "  x = np.asarray((x - loc)/scale, dtype=dtyp)\n"
     ]
    },
    {
     "data": {
      "image/png": "[encoded data removed]",
      "text/plain": [
       "<Figure size 432x288 with 1 Axes>"
      ]
     },
     "metadata": {
      "needs_background": "light"
     },
     "output_type": "display_data"
    },
    {
     "name": "stderr",
     "output_type": "stream",
     "text": [
      "c:\\users\\saumy\\appdata\\local\\programs\\python\\python38\\lib\\site-packages\\scipy\\stats\\_distn_infrastructure.py:1904: RuntimeWarning: invalid value encountered in true_divide\n",
      "  x = np.asarray((x - loc)/scale, dtype=dtyp)\n"
     ]
    },
    {
     "name": "stdout",
     "output_type": "stream",
     "text": [
      "Layer 1 = [[16.39999998 16.39999998 16.39999998]] Sigmoid Act = [[0.99999992 0.99999992 0.99999992]]\n",
      "Layer 2 = [[3.99999977 3.99999977 3.99999977]] TanH Act = [[0.9993293 0.9993293 0.9993293]]\n",
      "Layer 3 = [[3.9979879 3.9979879 3.9979879]] Sigmoid Act = [[0.98197822 0.98197822 0.98197822]]\n",
      "Layer 4 = [[3.94593465 3.94593465 3.94593465]] Tanh Act = [[0.99925274 0.99925274 0.99925274]]\n",
      "Layer 5 = [[3.99775822 3.99775822 3.99775822]] Softmax Act = [[0.33333333 0.33333333 0.33333333]]\n"
     ]
    },
    {
     "name": "stderr",
     "output_type": "stream",
     "text": [
      "c:\\users\\saumy\\appdata\\local\\programs\\python\\python38\\lib\\site-packages\\scipy\\stats\\_distn_infrastructure.py:1904: RuntimeWarning: invalid value encountered in true_divide\n",
      "  x = np.asarray((x - loc)/scale, dtype=dtyp)\n",
      "c:\\users\\saumy\\appdata\\local\\programs\\python\\python38\\lib\\site-packages\\scipy\\stats\\_distn_infrastructure.py:1904: RuntimeWarning: invalid value encountered in true_divide\n",
      "  x = np.asarray((x - loc)/scale, dtype=dtyp)\n",
      "c:\\users\\saumy\\appdata\\local\\programs\\python\\python38\\lib\\site-packages\\scipy\\stats\\_distn_infrastructure.py:1904: RuntimeWarning: invalid value encountered in true_divide\n",
      "  x = np.asarray((x - loc)/scale, dtype=dtyp)\n"
     ]
    },
    {
     "data": {
      "image/png": "[encoded data removed]",
      "text/plain": [
       "<Figure size 432x288 with 1 Axes>"
      ]
     },
     "metadata": {
      "needs_background": "light"
     },
     "output_type": "display_data"
    }
   ],
   "source": [
    "W1, b1, W2, b2, W3, b3, W4, b4, W5, b5 = initialize_weights_and_bias('constant')\n",
    "cost = 0\n",
    "losses = []\n",
    "epochs = 1\n",
    "for j in range(epochs):\n",
    "    losss = 0\n",
    "    tp = 0\n",
    "    for i in range(int(len(X_train)/30)):\n",
    "        \n",
    "        x = np.array(X_train.iloc[i:i+1, :], dtype=np.float32).reshape(1,4)\n",
    "        target = np.array(y_train)\n",
    "        y = []\n",
    "        if target[i] == 0:\n",
    "            y = [1, 0, 0]\n",
    "        elif target[i] == 1:\n",
    "            y = [0, 1, 0]\n",
    "        elif target[i] == 2:\n",
    "            y = [0, 0, 1]\n",
    "\n",
    "        #network forward pass\n",
    "        res1, res2, res3, res4, res5, layer1_out, layer2_out, layer3_out, layer4_out, y_hat = forward_pass(x, W1, b1, W2, b2, W3, b3, W4, b4, W5, b5)\n",
    "        \n",
    "        #the true positives for this case, to calculate accuracy\n",
    "        if np.argmax(y_hat) == np.argmax(y):\n",
    "            tp += 1\n",
    "\n",
    "        m1 = np.mean(res1)\n",
    "        m2 = np.mean(res2)\n",
    "        m3 = np.mean(res3)\n",
    "        m4 = np.mean(res4)\n",
    "        m5 = np.mean(res5)\n",
    "\n",
    "        s1 = np.std(res1)\n",
    "        s2 = np.std(res2)\n",
    "        s3 = np.std(res3)\n",
    "        s4 = np.std(res4)\n",
    "        s5 = np.std(res5)\n",
    "\n",
    "        x1 = np.linspace(m1-3*s1, m1+3*s1, 100)\n",
    "        x2 = np.linspace(m2-3*s2, m2+3*s2, 100)\n",
    "        x3 = np.linspace(m3-3*s3, m3+3*s3, 100)\n",
    "        x4 = np.linspace(m4-3*s4, m4+3*s4, 100)\n",
    "        x5 = np.linspace(m5-3*s5, m5+3*s5, 100)\n",
    "\n",
    "        plt.plot(x1, norm.pdf(x1, m1, s1), label = 'Hidden Layer 1')\n",
    "        plt.plot(x2, norm.pdf(x2, m2, s2), label = 'Hidden Layer 2')\n",
    "        plt.plot(x3, norm.pdf(x3, m3, s3), label = 'Hidden Layer 3')\n",
    "        plt.plot(x4, norm.pdf(x4, m4, s4), label = 'Hidden Layer 4')\n",
    "        plt.plot(x5, norm.pdf(x5, m5, s5), label = 'Hidden Layer 5')\n",
    "        plt.legend(loc='upper right')\n",
    "        plt.show()"
   ]
  },
  {
   "cell_type": "code",
   "execution_count": 545,
   "id": "c2eb7792",
   "metadata": {
    "scrolled": true
   },
   "outputs": [
    {
     "name": "stdout",
     "output_type": "stream",
     "text": [
      "Accuracy for training data: 1.0%\n"
     ]
    }
   ],
   "source": [
    "print(f\"Accuracy for training data: {round(tp/len(X_train), 2)*100}%\")"
   ]
  },
  {
   "cell_type": "code",
   "execution_count": 546,
   "id": "83633a3d",
   "metadata": {},
   "outputs": [
    {
     "name": "stderr",
     "output_type": "stream",
     "text": [
      "c:\\users\\saumy\\appdata\\local\\programs\\python\\python38\\lib\\site-packages\\scipy\\stats\\_distn_infrastructure.py:1904: RuntimeWarning: invalid value encountered in true_divide\n",
      "  x = np.asarray((x - loc)/scale, dtype=dtyp)\n",
      "c:\\users\\saumy\\appdata\\local\\programs\\python\\python38\\lib\\site-packages\\scipy\\stats\\_distn_infrastructure.py:1904: RuntimeWarning: invalid value encountered in true_divide\n",
      "  x = np.asarray((x - loc)/scale, dtype=dtyp)\n",
      "c:\\users\\saumy\\appdata\\local\\programs\\python\\python38\\lib\\site-packages\\scipy\\stats\\_distn_infrastructure.py:1904: RuntimeWarning: invalid value encountered in true_divide\n",
      "  x = np.asarray((x - loc)/scale, dtype=dtyp)\n",
      "c:\\users\\saumy\\appdata\\local\\programs\\python\\python38\\lib\\site-packages\\scipy\\stats\\_distn_infrastructure.py:1904: RuntimeWarning: invalid value encountered in true_divide\n",
      "  x = np.asarray((x - loc)/scale, dtype=dtyp)\n",
      "c:\\users\\saumy\\appdata\\local\\programs\\python\\python38\\lib\\site-packages\\scipy\\stats\\_distn_infrastructure.py:1904: RuntimeWarning: invalid value encountered in true_divide\n",
      "  x = np.asarray((x - loc)/scale, dtype=dtyp)\n"
     ]
    },
    {
     "data": {
      "image/png": "[encoded data removed]",
      "text/plain": [
       "<Figure size 432x288 with 1 Axes>"
      ]
     },
     "metadata": {
      "needs_background": "light"
     },
     "output_type": "display_data"
    }
   ],
   "source": [
    "m1 = np.mean(W1)\n",
    "m2 = np.mean(W2)\n",
    "m3 = np.mean(W3)\n",
    "m4 = np.mean(W4)\n",
    "m5 = np.mean(W5)\n",
    "\n",
    "s1 = np.std(W1)\n",
    "s2 = np.std(W2)\n",
    "s3 = np.std(W3)\n",
    "s4 = np.std(W4)\n",
    "s5 = np.std(W5)\n",
    "\n",
    "x1 = np.linspace(m1-3*s1, m1+3*s1, 100)\n",
    "x2 = np.linspace(m2-3*s2, m2+3*s2, 100)\n",
    "x3 = np.linspace(m3-3*s3, m3+3*s3, 100)\n",
    "x4 = np.linspace(m4-3*s4, m4+3*s4, 100)\n",
    "x5 = np.linspace(m5-3*s5, m5+3*s5, 100)\n",
    "\n",
    "plt.plot(x1, norm.pdf(x1, m1, s1), label = 'Hidden Layer 1')\n",
    "plt.plot(x2, norm.pdf(x2, m2, s2), label = 'Hidden Layer 2')\n",
    "plt.plot(x3, norm.pdf(x3, m3, s3), label = 'Hidden Layer 3')\n",
    "plt.plot(x4, norm.pdf(x4, m4, s4), label = 'Hidden Layer 4')\n",
    "plt.plot(x5, norm.pdf(x5, m5, s5), label = 'Hidden Layer 5')\n",
    "plt.legend(loc='upper right')\n",
    "plt.show()"
   ]
  },
  {
   "cell_type": "code",
   "execution_count": 547,
   "id": "343aac42",
   "metadata": {
    "scrolled": false
   },
   "outputs": [
    {
     "name": "stdout",
     "output_type": "stream",
     "text": [
      "Layer 1 = [[11.40000013 11.40000013 11.40000013]] Sigmoid Act = [[0.9999888 0.9999888 0.9999888]]\n",
      "Layer 2 = [[3.99996641 3.99996641 3.99996641]] TanH Act = [[0.99932925 0.99932925 0.99932925]]\n",
      "Layer 3 = [[3.99798776 3.99798776 3.99798776]] Sigmoid Act = [[0.98197821 0.98197821 0.98197821]]\n",
      "Layer 4 = [[3.94593464 3.94593464 3.94593464]] Tanh Act = [[0.99925274 0.99925274 0.99925274]]\n",
      "Layer 5 = [[3.99775822 3.99775822 3.99775822]] Softmax Act = [[0.33333333 0.33333333 0.33333333]]\n"
     ]
    },
    {
     "ename": "ValueError",
     "evalue": "too many values to unpack (expected 5)",
     "output_type": "error",
     "traceback": [
      "\u001b[1;31m---------------------------------------------------------------------------\u001b[0m",
      "\u001b[1;31mValueError\u001b[0m                                Traceback (most recent call last)",
      "Input \u001b[1;32mIn [547]\u001b[0m, in \u001b[0;36m<cell line: 3>\u001b[1;34m()\u001b[0m\n\u001b[0;32m     12\u001b[0m     y \u001b[38;5;241m=\u001b[39m [\u001b[38;5;241m0\u001b[39m, \u001b[38;5;241m0\u001b[39m, \u001b[38;5;241m1\u001b[39m]\n\u001b[0;32m     15\u001b[0m \u001b[38;5;66;03m#network forward pas\u001b[39;00m\n\u001b[1;32m---> 16\u001b[0m layer1_out, layer2_out, layer3_out, layer4_out, y_hat \u001b[38;5;241m=\u001b[39m forward_pass(x, W1, b1, W2, b2, W3, b3, W4, b4, W5, b5)\n\u001b[0;32m     18\u001b[0m \u001b[38;5;28mprint\u001b[39m(\u001b[38;5;124mf\u001b[39m\u001b[38;5;124m\"\u001b[39m\u001b[38;5;132;01m{\u001b[39;00mnp\u001b[38;5;241m.\u001b[39margmax(y_hat)\u001b[38;5;132;01m}\u001b[39;00m\u001b[38;5;124m \u001b[39m\u001b[38;5;124m\\\u001b[39m\u001b[38;5;124m \u001b[39m\u001b[38;5;132;01m{\u001b[39;00mnp\u001b[38;5;241m.\u001b[39margmax(y)\u001b[38;5;132;01m}\u001b[39;00m\u001b[38;5;124m\"\u001b[39m)\n\u001b[0;32m     20\u001b[0m \u001b[38;5;28;01mif\u001b[39;00m np\u001b[38;5;241m.\u001b[39margmax(y_hat) \u001b[38;5;241m==\u001b[39m np\u001b[38;5;241m.\u001b[39margmax(y):\n",
      "\u001b[1;31mValueError\u001b[0m: too many values to unpack (expected 5)"
     ]
    }
   ],
   "source": [
    "tp_test = 0\n",
    "\n",
    "for i in range(int(len(X_test)/10)):\n",
    "    x = X_test.iloc[i:i+1, :].to_numpy()\n",
    "    target = y_test.to_numpy()\n",
    "    y = []\n",
    "    if target[i] == 0:\n",
    "        y = [1, 0, 0]\n",
    "    elif target[i] == 1:\n",
    "        y = [0, 1, 0]\n",
    "    elif target[i] == 2:\n",
    "        y = [0, 0, 1]\n",
    "\n",
    "\n",
    "    #network forward pas\n",
    "    layer1_out, layer2_out, layer3_out, layer4_out, y_hat = forward_pass(x, W1, b1, W2, b2, W3, b3, W4, b4, W5, b5)\n",
    "    \n",
    "    print(f\"{np.argmax(y_hat)} \\ {np.argmax(y)}\")\n",
    "    \n",
    "    if np.argmax(y_hat) == np.argmax(y):\n",
    "        tp_test += 1\n",
    "        "
   ]
  },
  {
   "cell_type": "code",
   "execution_count": null,
   "id": "4ab086aa",
   "metadata": {},
   "outputs": [],
   "source": [
    "print(f\"Accuracy for test data: {round(tp_test/len(X_test), 2)*100}%\")"
   ]
  },
  {
   "cell_type": "code",
   "execution_count": null,
   "id": "ce87fd3d",
   "metadata": {},
   "outputs": [],
   "source": []
  }
 ],
 "metadata": {
  "kernelspec": {
   "display_name": "Python 3 (ipykernel)",
   "language": "python",
   "name": "python3"
  },
  "language_info": {
   "codemirror_mode": {
    "name": "ipython",
    "version": 3
   },
   "file_extension": ".py",
   "mimetype": "text/x-python",
   "name": "python",
   "nbconvert_exporter": "python",
   "pygments_lexer": "ipython3",
   "version": "3.8.10"
  }
 },
 "nbformat": 4,
 "nbformat_minor": 5
}
